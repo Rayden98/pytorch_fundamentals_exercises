{
  "nbformat": 4,
  "nbformat_minor": 0,
  "metadata": {
    "colab": {
      "provenance": [],
      "gpuType": "T4"
    },
    "kernelspec": {
      "name": "python3",
      "display_name": "Python 3"
    },
    "language_info": {
      "name": "python"
    },
    "accelerator": "GPU"
  },
  "cells": [
    {
      "cell_type": "code",
      "execution_count": 1,
      "metadata": {
        "id": "9QjwOwsmXIip",
        "colab": {
          "base_uri": "https://localhost:8080/"
        },
        "outputId": "68541c73-d28e-4198-9b73-1c6d0d1ddeb9"
      },
      "outputs": [
        {
          "output_type": "stream",
          "name": "stdout",
          "text": [
            "2.3.0+cu121\n"
          ]
        }
      ],
      "source": [
        "import torch\n",
        "import pandas as pd\n",
        "import numpy as np\n",
        "import matplotlib.pyplot as plt\n",
        "print(torch.__version__)"
      ]
    },
    {
      "cell_type": "code",
      "source": [
        "random_tensor = torch.rand(7, 7)\n",
        "random_tensor, random_tensor.shape"
      ],
      "metadata": {
        "colab": {
          "base_uri": "https://localhost:8080/"
        },
        "id": "cFigMoZYBZcs",
        "outputId": "9e6371ab-b1a3-4da9-d202-0ddd43ac6971"
      },
      "execution_count": 2,
      "outputs": [
        {
          "output_type": "execute_result",
          "data": {
            "text/plain": [
              "(tensor([[0.9377, 0.1770, 0.7848, 0.5770, 0.8603, 0.7679, 0.3090],\n",
              "         [0.3295, 0.7184, 0.0320, 0.5916, 0.2854, 0.7742, 0.5654],\n",
              "         [0.0960, 0.6740, 0.4551, 0.6901, 0.8144, 0.3292, 0.4847],\n",
              "         [0.7803, 0.2367, 0.2414, 0.8066, 0.9918, 0.8434, 0.8576],\n",
              "         [0.3028, 0.1273, 0.2866, 0.2929, 0.2895, 0.8279, 0.0200],\n",
              "         [0.8423, 0.1787, 0.8312, 0.8203, 0.8061, 0.7048, 0.8775],\n",
              "         [0.0082, 0.3969, 0.0738, 0.3703, 0.8997, 0.6274, 0.0734]]),\n",
              " torch.Size([7, 7]))"
            ]
          },
          "metadata": {},
          "execution_count": 2
        }
      ]
    },
    {
      "cell_type": "code",
      "source": [
        "random_tensor_2 = torch.rand(1, 7)\n",
        "random_tensor_2"
      ],
      "metadata": {
        "colab": {
          "base_uri": "https://localhost:8080/"
        },
        "id": "ttVQg2-iBzkF",
        "outputId": "4695a3b1-e151-4677-dfc0-b99770e5547d"
      },
      "execution_count": 3,
      "outputs": [
        {
          "output_type": "execute_result",
          "data": {
            "text/plain": [
              "tensor([[0.3286, 0.2157, 0.5502, 0.5244, 0.7155, 0.5371, 0.5907]])"
            ]
          },
          "metadata": {},
          "execution_count": 3
        }
      ]
    },
    {
      "cell_type": "code",
      "source": [
        "# Multiplying the tensors with transposed\n",
        "torch.matmul(random_tensor, random_tensor_2.T)"
      ],
      "metadata": {
        "colab": {
          "base_uri": "https://localhost:8080/"
        },
        "id": "G-i0jAlXCBCa",
        "outputId": "70594c8c-afa2-4139-c302-011aac319b2c"
      },
      "execution_count": 4,
      "outputs": [
        {
          "output_type": "execute_result",
          "data": {
            "text/plain": [
              "tensor([[2.2911],\n",
              "        [1.5450],\n",
              "        [1.8350],\n",
              "        [2.5325],\n",
              "        [1.1018],\n",
              "        [2.6764],\n",
              "        [1.3470]])"
            ]
          },
          "metadata": {},
          "execution_count": 4
        }
      ]
    },
    {
      "cell_type": "code",
      "source": [
        "# 4. Set the random seed to 0 and do exercises 2 & 3 over again.\n",
        "\n",
        "RANDOM_SEED = 0\n",
        "torch.manual_seed(RANDOM_SEED)\n",
        "\n",
        "random_tensor = torch.rand(7, 7)\n",
        "random_tensor_2 = torch.rand(1, 7)\n",
        "random_tensor, random_tensor_2, torch.matmul(random_tensor, random_tensor_2.T)\n"
      ],
      "metadata": {
        "colab": {
          "base_uri": "https://localhost:8080/"
        },
        "id": "nJQP8RfmCcRF",
        "outputId": "6415875a-65f2-4152-ac1d-22e876a8b686"
      },
      "execution_count": 5,
      "outputs": [
        {
          "output_type": "execute_result",
          "data": {
            "text/plain": [
              "(tensor([[0.4963, 0.7682, 0.0885, 0.1320, 0.3074, 0.6341, 0.4901],\n",
              "         [0.8964, 0.4556, 0.6323, 0.3489, 0.4017, 0.0223, 0.1689],\n",
              "         [0.2939, 0.5185, 0.6977, 0.8000, 0.1610, 0.2823, 0.6816],\n",
              "         [0.9152, 0.3971, 0.8742, 0.4194, 0.5529, 0.9527, 0.0362],\n",
              "         [0.1852, 0.3734, 0.3051, 0.9320, 0.1759, 0.2698, 0.1507],\n",
              "         [0.0317, 0.2081, 0.9298, 0.7231, 0.7423, 0.5263, 0.2437],\n",
              "         [0.5846, 0.0332, 0.1387, 0.2422, 0.8155, 0.7932, 0.2783]]),\n",
              " tensor([[0.4820, 0.8198, 0.9971, 0.6984, 0.5675, 0.8352, 0.2056]]),\n",
              " tensor([[1.8542],\n",
              "         [1.9611],\n",
              "         [2.2884],\n",
              "         [3.0481],\n",
              "         [1.7067],\n",
              "         [2.5290],\n",
              "         [1.7989]]))"
            ]
          },
          "metadata": {},
          "execution_count": 5
        }
      ]
    },
    {
      "cell_type": "code",
      "source": [
        "# 5."
      ],
      "metadata": {
        "id": "ONukcVsRIwhY"
      },
      "execution_count": 6,
      "outputs": []
    },
    {
      "cell_type": "code",
      "source": [
        "MANUAL_SEED_CUDA=1234\n",
        "\n",
        "torch.cuda.manual_seed(MANUAL_SEED_CUDA)"
      ],
      "metadata": {
        "id": "fqr74AqMLlaf"
      },
      "execution_count": 7,
      "outputs": []
    },
    {
      "cell_type": "code",
      "source": [
        "# 6. Create two random tensors of shape (2, 3) and send them both to the GPU"
      ],
      "metadata": {
        "id": "v0fk1yV0MZJc"
      },
      "execution_count": 8,
      "outputs": []
    },
    {
      "cell_type": "code",
      "source": [
        "device = \"cuda\" if torch.cuda.is_available() else \"cpu\"\n",
        "device"
      ],
      "metadata": {
        "colab": {
          "base_uri": "https://localhost:8080/",
          "height": 36
        },
        "id": "VYVEb_MCM0aJ",
        "outputId": "9b34da8e-69b6-4ec2-83f7-e7d99de92882"
      },
      "execution_count": 9,
      "outputs": [
        {
          "output_type": "execute_result",
          "data": {
            "text/plain": [
              "'cuda'"
            ],
            "application/vnd.google.colaboratory.intrinsic+json": {
              "type": "string"
            }
          },
          "metadata": {},
          "execution_count": 9
        }
      ]
    },
    {
      "cell_type": "code",
      "source": [
        "random_tensor_cuda = torch.rand(2, 3)\n",
        "random_tensor_cuda_2 = torch.rand(2, 3)\n",
        "random_tensor_cuda.is_cuda, random_tensor_cuda_2.is_cuda"
      ],
      "metadata": {
        "colab": {
          "base_uri": "https://localhost:8080/"
        },
        "id": "dtbfQ2CdMaN-",
        "outputId": "ab5b4b66-e88a-4c37-b08e-5e3e3afb7035"
      },
      "execution_count": 11,
      "outputs": [
        {
          "output_type": "execute_result",
          "data": {
            "text/plain": [
              "(False, False)"
            ]
          },
          "metadata": {},
          "execution_count": 11
        }
      ]
    },
    {
      "cell_type": "code",
      "source": [
        "## This doesn't work\n",
        "MANUAL_SEED_CUDA=1234\n",
        "\n",
        "torch.cuda.manual_seed(MANUAL_SEED_CUDA)\n",
        "\n",
        "random_tensor_cuda = torch.rand(2, 3).cuda()\n",
        "random_tensor_cuda_2 = torch.rand(2, 3).cuda()\n",
        "random_tensor_cuda.is_cuda, random_tensor_cuda_2.is_cuda"
      ],
      "metadata": {
        "colab": {
          "base_uri": "https://localhost:8080/"
        },
        "id": "XUsWejepNvqQ",
        "outputId": "b488d5c0-5a7e-49e5-bf69-8260bf501568"
      },
      "execution_count": 25,
      "outputs": [
        {
          "output_type": "execute_result",
          "data": {
            "text/plain": [
              "(True, True)"
            ]
          },
          "metadata": {},
          "execution_count": 25
        }
      ]
    },
    {
      "cell_type": "code",
      "source": [
        "random_tensor_cuda, random_tensor_cuda_2"
      ],
      "metadata": {
        "colab": {
          "base_uri": "https://localhost:8080/"
        },
        "id": "GsCn6J1dN6ef",
        "outputId": "125b5a23-68a9-4cd1-d1ea-c5274b55af9b"
      },
      "execution_count": 26,
      "outputs": [
        {
          "output_type": "execute_result",
          "data": {
            "text/plain": [
              "(tensor([[0.0290, 0.4019, 0.2598],\n",
              "         [0.3666, 0.0583, 0.7006]], device='cuda:0'),\n",
              " tensor([[0.0518, 0.4681, 0.6738],\n",
              "         [0.3315, 0.7837, 0.5631]], device='cuda:0'))"
            ]
          },
          "metadata": {},
          "execution_count": 26
        }
      ]
    },
    {
      "cell_type": "code",
      "source": [
        "# This does work\n",
        "\n",
        "MANUAL_SEED_CUDA=1234\n",
        "\n",
        "torch.cuda.manual_seed(MANUAL_SEED_CUDA)\n",
        "\n",
        "random_tensor_cuda = torch.rand((2, 3), device=device)\n",
        "random_tensor_cuda_2 = torch.rand((2, 3),device=device )\n",
        "random_tensor_cuda.is_cuda, random_tensor_cuda_2.is_cuda"
      ],
      "metadata": {
        "colab": {
          "base_uri": "https://localhost:8080/"
        },
        "id": "mfDE4m0rOBb2",
        "outputId": "2b720a35-b1bb-4f43-ae64-ed117b0f29ff"
      },
      "execution_count": 35,
      "outputs": [
        {
          "output_type": "execute_result",
          "data": {
            "text/plain": [
              "(True, True)"
            ]
          },
          "metadata": {},
          "execution_count": 35
        }
      ]
    },
    {
      "cell_type": "code",
      "source": [
        "random_tensor_cuda, random_tensor_cuda_2"
      ],
      "metadata": {
        "colab": {
          "base_uri": "https://localhost:8080/"
        },
        "id": "RRQBFZAkPLnm",
        "outputId": "48ca1573-bd26-4c02-9198-236f36572b17"
      },
      "execution_count": 36,
      "outputs": [
        {
          "output_type": "execute_result",
          "data": {
            "text/plain": [
              "(tensor([[0.1272, 0.8167, 0.5440],\n",
              "         [0.6601, 0.2721, 0.9737]], device='cuda:0'),\n",
              " tensor([[0.6208, 0.0276, 0.3255],\n",
              "         [0.1114, 0.6812, 0.3608]], device='cuda:0'))"
            ]
          },
          "metadata": {},
          "execution_count": 36
        }
      ]
    },
    {
      "cell_type": "code",
      "source": [
        "# 7. Perform a matrix multiplication on the tensors you created in 6 (again, you may have to adjust the shapes of one of the tensors).\n",
        "\n",
        "result = torch.matmul(random_tensor_cuda, random_tensor_cuda_2.T)\n",
        "result"
      ],
      "metadata": {
        "colab": {
          "base_uri": "https://localhost:8080/"
        },
        "id": "zeIBB3poP6Hx",
        "outputId": "a74b4d75-96fb-4950-9e9c-0d3014d240a4"
      },
      "execution_count": 39,
      "outputs": [
        {
          "output_type": "execute_result",
          "data": {
            "text/plain": [
              "tensor([[0.2786, 0.7668],\n",
              "        [0.7343, 0.6102]], device='cuda:0')"
            ]
          },
          "metadata": {},
          "execution_count": 39
        }
      ]
    },
    {
      "cell_type": "code",
      "source": [
        "# 8. Find the maximum and minimum values of the output of 7.\n",
        "\n",
        "# Minimum\n",
        "torch.min(result), result.min()"
      ],
      "metadata": {
        "colab": {
          "base_uri": "https://localhost:8080/"
        },
        "id": "W56Q7omYQm-H",
        "outputId": "6eff8512-3e90-40b3-dbc7-39b7dc5c1014"
      },
      "execution_count": 41,
      "outputs": [
        {
          "output_type": "execute_result",
          "data": {
            "text/plain": [
              "(tensor(0.2786, device='cuda:0'), tensor(0.2786, device='cuda:0'))"
            ]
          },
          "metadata": {},
          "execution_count": 41
        }
      ]
    },
    {
      "cell_type": "code",
      "source": [
        "# Maximum\n",
        "torch.max(result), result.max()"
      ],
      "metadata": {
        "colab": {
          "base_uri": "https://localhost:8080/"
        },
        "id": "ZdsY2Mc0UmSL",
        "outputId": "3cea7d56-b1a1-4cd8-b197-ecc2f3f681cb"
      },
      "execution_count": 42,
      "outputs": [
        {
          "output_type": "execute_result",
          "data": {
            "text/plain": [
              "(tensor(0.7668, device='cuda:0'), tensor(0.7668, device='cuda:0'))"
            ]
          },
          "metadata": {},
          "execution_count": 42
        }
      ]
    },
    {
      "cell_type": "code",
      "source": [
        "# 9. Find the maximum and minimum index values of the output of 7.\n",
        "\n",
        "# Minimum index\n",
        "result.argmin()"
      ],
      "metadata": {
        "colab": {
          "base_uri": "https://localhost:8080/"
        },
        "id": "alMDJg-zUwnU",
        "outputId": "e4bc3add-4770-4fcd-fe9d-00f5064020f6"
      },
      "execution_count": 43,
      "outputs": [
        {
          "output_type": "execute_result",
          "data": {
            "text/plain": [
              "tensor(0, device='cuda:0')"
            ]
          },
          "metadata": {},
          "execution_count": 43
        }
      ]
    },
    {
      "cell_type": "code",
      "source": [
        "# Maximum index\n",
        "result.argmax()"
      ],
      "metadata": {
        "colab": {
          "base_uri": "https://localhost:8080/"
        },
        "id": "oE2OJUF5U8-C",
        "outputId": "f1ef08a0-1178-4ee1-cbb0-97b7086b75c3"
      },
      "execution_count": 44,
      "outputs": [
        {
          "output_type": "execute_result",
          "data": {
            "text/plain": [
              "tensor(1, device='cuda:0')"
            ]
          },
          "metadata": {},
          "execution_count": 44
        }
      ]
    },
    {
      "cell_type": "markdown",
      "source": [
        "### 10. Make a random tensor with shape (1, 1, 1, 10) and then create a new tensor with all the 1 dimensions removed to be left with a tensor of shape (10). Set the seed to 7 when you create it and print out the first tensor and it's shape as well as the second tensor and it's shape."
      ],
      "metadata": {
        "id": "27SdTT37VAjb"
      }
    },
    {
      "cell_type": "code",
      "source": [
        "MANUAL_SEED_CUDA = 7\n",
        "\n",
        "torch.cuda.manual_seed(MANUAL_SEED_CUDA)\n",
        "\n",
        "random_10_dim = torch.rand((1, 1, 1, 10), device=device)\n",
        "random_10_dim_squeeze = random_10_dim.squeeze()\n",
        "\n",
        "print(f\"First tensor: {random_10_dim},\\nits shape: {random_10_dim.shape}\")\n",
        "print(f\"Second tensor: {random_10_dim_squeeze},\\nits shape: {random_10_dim_squeeze.shape}\")\n"
      ],
      "metadata": {
        "colab": {
          "base_uri": "https://localhost:8080/"
        },
        "id": "QTrkyHswVLKn",
        "outputId": "f2a8635b-f083-421d-dfaa-ef4e3f1b44b0"
      },
      "execution_count": 54,
      "outputs": [
        {
          "output_type": "stream",
          "name": "stdout",
          "text": [
            "First tensor: tensor([[[[0.9546, 0.4950, 0.9420, 0.5926, 0.6996, 0.2087, 0.6753, 0.4810,\n",
            "           0.6333, 0.5733]]]], device='cuda:0'),\n",
            "its shape: torch.Size([1, 1, 1, 10])\n",
            "Second tensor: tensor([0.9546, 0.4950, 0.9420, 0.5926, 0.6996, 0.2087, 0.6753, 0.4810, 0.6333,\n",
            "        0.5733], device='cuda:0'),\n",
            "its shape: torch.Size([10])\n"
          ]
        }
      ]
    },
    {
      "cell_type": "code",
      "source": [],
      "metadata": {
        "id": "JdLIFRZhXaqp"
      },
      "execution_count": null,
      "outputs": []
    }
  ]
}